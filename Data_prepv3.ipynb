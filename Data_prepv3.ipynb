{
  "nbformat": 4,
  "nbformat_minor": 0,
  "metadata": {
    "colab": {
      "name": "Data_prepv3.ipynb",
      "provenance": [],
      "collapsed_sections": [],
      "authorship_tag": "ABX9TyMA3wz5c+5w85BZ+SVrvoQj"
    },
    "kernelspec": {
      "name": "python3",
      "display_name": "Python 3"
    },
    "language_info": {
      "name": "python"
    }
  },
  "cells": [
    {
      "cell_type": "code",
      "execution_count": null,
      "metadata": {
        "id": "C8VOkioAhimG"
      },
      "outputs": [],
      "source": [
        "import pandas as pd\n",
        "import numpy as np\n",
        "import matplotlib.pyplot as plt\n",
        "import matplotlib.image as mpimg\n",
        "import seaborn as sns\n",
        "%matplotlib inline\n",
        "\n",
        "np.random.seed(2)\n",
        "\n",
        "from sklearn.model_selection import train_test_split\n",
        "from sklearn.metrics import confusion_matrix\n",
        "import itertools\n",
        "\n",
        "from keras.utils.np_utils import to_categorical # convert to one-hot-encoding\n",
        "from keras.models import Sequential\n",
        "from keras.layers import Dense, Dropout, Flatten, Conv2D, MaxPool2D\n",
        "from keras.optimizers import RMSprop\n",
        "from keras.preprocessing.image import ImageDataGenerator\n",
        "from keras.callbacks import ReduceLROnPlateau\n",
        "\n",
        "\n",
        "sns.set(style='white', context='notebook', palette='deep')"
      ]
    },
    {
      "cell_type": "markdown",
      "source": [
        "# Data preparation"
      ],
      "metadata": {
        "id": "pe01BLKZh4_e"
      }
    },
    {
      "cell_type": "markdown",
      "source": [
        "Loading Data"
      ],
      "metadata": {
        "id": "BLEE6ZjziEvt"
      }
    },
    {
      "cell_type": "code",
      "source": [
        "# Load the data\n",
        "train = pd.read_csv(\"../input/train.csv\")\n",
        "test = pd.read_csv(\"../input/test.csv\")\n",
        "Y_train = train[\"label\"]\n",
        "\n",
        "# Drop 'label' column\n",
        "X_train = train.drop(labels = [\"label\"],axis = 1) \n",
        "\n",
        "# free some space\n",
        "del train \n",
        "\n",
        "g = sns.countplot(Y_train)\n",
        "\n",
        "Y_train.value_counts()"
      ],
      "metadata": {
        "id": "P7Has8Kvh8TN"
      },
      "execution_count": null,
      "outputs": []
    },
    {
      "cell_type": "markdown",
      "source": [
        "![image.png](data:image/png;base64,iVBORw0KGgoAAAANSUhEUgAAAfgAAAFYCAIAAAAwVnnGAAAYWElEQVR4nO3df1RT993A8W8CpBw1aEMJljOlW1dHFaZVOg9Qq1axlHn2qBXkh+vW0q4+MGd3tMgsVTtdwR/0MFtWnVblUFRq7FrmHHDag1urIaumB2WrrboziyKQKAgCkRjz/JHn4eG0mnrK5V79+n79lXyJfj9t9M31JrnovF6vAADIS6/1AACAwUXoAUByhB4AJEfoAUByhB4AJBeo9QDX53K5GhoawsLCAgICtJ4FAG4PHo/H4XBER0cHBwf3X79FQ9/Q0JCZman1FABw+ykvL4+Nje2/couGPiwsTAhRXl4+cuRIrWcBgNtDc3NzZmamr5/93aKh952xGTly5He+8x2tZwGA28nXz3jzYiwASI7QA4DkCD0ASI7QA4DkCD0ASI7QA4DkCD0ASI7QA4DkCD0ASI7QA4DkCD0ASO4WvdbNrelEyX+ptldUzvuq7QVAbhzRA4DkCD0ASI7QA4DkCD0ASI7QA4DkCD0ASI7QA4DkCD0ASI7QA4DkCD0ASI7QA4DkCD0ASI7QA4DkCD0ASI7QA4DkCD0ASI4fPAJAMSV/alFno5y54epsJAeO6AFAcoQeACTHqRt8G6vfeVy9vVKrVdsLkBJH9AAgOUIPAJIj9AAgOUIPAJIj9AAgOUIPAJIj9AAgOUIPAJIj9AAgOT4ZCwDKayk+qtpe4S9M8v8AQn+bsexIUm2v+U9XqbYXgMHDqRsAkBxH9IAM5u77WLW9/vTkI6rtBUXcHqF3vPm2anuF/fdC1fYCABVw6gYAJEfoAUByt8epG+C6kv+0Vp2NDszNV2cjYDAoE3qXyzV79uzs7Oy4uLjc3FyPxxMWFrZhwwaDwVBZWVlaWqrX61NTU1NSUtxud15eXlNTU0BAQEFBwahRoxQZAAB8Pt3WqtpeDz1rVm2vgVDm1M2bb745fPhwIcSmTZsyMjJ27doVGRlpsVi6u7tLSkp27txZVlZWWlra3t6+f//+kJCQ3bt3L1q0qKioSJHdAQB+KBD606dPnzp1atq0aUIIm802Y8YMIcT06dOtVmt9fX1MTIzRaAwODp44caLdbrdarYmJiUKI+Ph4u90+8N0BAP4pEPp169bl5eX5bvf09BgMBiFEaGiow+FwOp0mk8n3JZPJ1H9Fr9frdLre3t6BDwAA8GOgoX/vvfcmTJjw9VPtXq/3W6wAABQ30BdjDx482NjYePDgwebmZoPBMGTIEJfLFRwc3NLSYjabzWaz0+n0PbK1tXXChAlms9nhcERFRbndbq/X6zv8BwAMnoEe0RcXF+/bt++dd95JSUnJzs6Oj4+vrq4WQtTU1EyZMmX8+PHHjx/v6Ojo6uqy2+2xsbEJCQlVVVVCiNra2smTJyvwXwAA8Evh99EvXrx4+fLlFRUVERERc+bMCQoKWrp0aVZWlk6ny8nJMRqNycnJhw8fTk9PNxgMhYWFyu4OAPg6xUK/ePFi340dO3b0X09KSkpK+v8r6/rePq/UpgCAb8QlEABAcoQeACRH6AFAcoQeACRH6AFAcoQeACRH6AFAcvzgEWBAZlvKVdtr//xM1faCTDiiBwDJEXoAkByhBwDJEXoAkByhBwDJEXoAkByhBwDJEXoAkByhBwDJEXoAkByhBwDJEXoAkByhBwDJEXoAkByhBwDJEXoAkByhBwDJEXoAkByhBwDJEXoAkByhBwDJEXoAkByhBwDJEXoAkByhBwDJEXoAkByhBwDJEXoAkByhBwDJEXoAkByhBwDJEXoAkByhBwDJEXoAkByhBwDJEXoAkByhBwDJEXoAkByhBwDJEXoAkByhBwDJEXoAkByhBwDJEXoAkFzgwH+Lnp6evLy8CxcuXLlyJTs7OyoqKjc31+PxhIWFbdiwwWAwVFZWlpaW6vX61NTUlJQUt9udl5fX1NQUEBBQUFAwatSogc8AALgRBY7oa2tro6Oj33777eLi4sLCwk2bNmVkZOzatSsyMtJisXR3d5eUlOzcubOsrKy0tLS9vX3//v0hISG7d+9etGhRUVHRwAcAAPihQOiTk5Ofe+45IcT58+fDw8NtNtuMGTOEENOnT7darfX19TExMUajMTg4eOLEiXa73Wq1JiYmCiHi4+PtdvvABwAA+KHAqRuftLS05ubmzZs3P/300waDQQgRGhrqcDicTqfJZPI9xmQy9V/R6/U6na63t9f3eADAYFAs9Hv27Pnss89efPFFr9frW+m70edmVgAAylLg1E1DQ8P58+eFEA8++KDH4xk6dKjL5RJCtLS0mM1ms9nsdDp9j2xtbfWtOBwOIYTb7fZ6vRzOA8CgUiD0R44c2b59uxDC6XR2d3fHx8dXV1cLIWpqaqZMmTJ+/Pjjx493dHR0dXXZ7fbY2NiEhISqqiohRG1t7eTJkwc+AADADwVO3aSlpb300ksZGRkul2vlypXR0dHLly+vqKiIiIiYM2dOUFDQ0qVLs7KydDpdTk6O0WhMTk4+fPhwenq6wWAoLCwc+AAAAD8UCH1wcPBX3iW5Y8eO/neTkpKSkpL67vrePj/wfQEAN4NPxgKA5Ag9AEiO0AOA5Ag9AEiO0AOA5Ag9AEiO0AOA5Ag9AEiO0AOA5Ag9AEiO0AOA5Ag9AEiO0AOA5Ag9AEiO0AOA5Ag9AEjOX+jz8vL6383KyhrkYQAAyrv+T5iqrKzcs2fPyZMnMzMzfStut7vvZ3wDAG4j1w/9T37yk8mTJy9btmzx4sW+Fb1e//3vf1/FwQAAyrjhz4wNDw8vKyvr7Oxsb2/3rXR2do4YMUKtwQAAyvD3w8HXrl27b98+k8nk9XqFEDqd7sMPP1RrMACAMvyF3maz1dXV3XXXXapNAwBQnL933URGRlJ5ALjd+TuiHzlyZGZm5qRJkwICAnwrS5YsUWUqAIBi/IV+xIgRcXFxqo0CABgM/kKfnZ2t2hwAgEHiL/Rjx47V6XS+2zqdzmg02mw2VaYCACjGX+hPnDjhu9Hb22u1Wj///HNVRgIAKOmmLmpmMBimTp166NChwZ4GAKA4f0f0Foul73Zzc3NLS8vgzwMAUJi/0B89erTv9rBhw4qLiwd/HgCAwvyFvqCgQAjR3t6u0+mGDx+u1kgAACX5C73dbs/Nze3q6vJ6vSNGjNiwYUNMTIxqkwEAFOEv9EVFRX/4wx/GjBkjhPjXv/71u9/9rry8XK3BAADK8PeuG71e76u8EGLs2LF9F0IAANxGviH01dXVly9fvnz58oEDBwg9ANyO/J26eeWVV9asWZOfn6/X66OiotauXavaWAAApfg7oj906JDBYPjkk09sNtu1a9f+9re/qTYWAEAp/kJfWVn5xhtv+G5v3779z3/+syojAQCU5C/0Ho+n77y8Xn9TF0sAANxq/J2jf+yxx9LS0iZNmnTt2rW6urpZs2apNhYAQCnfcD36H/3oR8eOHdPpdKtWrZowYYJqYwEAlOIv9EKI2NjY2NhYdUYBAAwGzrwDgOQIPQBIjtADgOQIPQBIjtADgOQIPQBIjtADgOQIPQBIjtADgOS+4ZOxN2n9+vVHjx69evXq888/HxMTk5ub6/F4wsLCNmzYYDAYKisrS0tL9Xp9ampqSkqK2+3Oy8tramoKCAgoKCgYNWqUIjMAAK5LgdDX1dWdPHmyoqKira1t7ty5cXFxGRkZTzzxxGuvvWaxWObMmVNSUmKxWIKCgubPn5+YmFhbWxsSElJUVPTxxx8XFRUVFxcPfAYAwI0ocOrm4Ycf/v3vfy+ECAkJ6enpsdlsM2bMEEJMnz7darXW19fHxMQYjcbg4OCJEyfa7Xar1ZqYmCiEiI+Pt9vtAx8AAOCHAqEPCAgYMmSIEMJisTz66KM9PT0Gg0EIERoa6nA4nE6nyWTyPdJkMvVf0ev1Op2ut7d34DMAAG5EsRdjP/jgA4vFsnLlyr4Vr9f7lcfczAoAQFnKhP6jjz7avHnz1q1bjUbjkCFDXC6XEKKlpcVsNpvNZqfT6XtYa2urb8XhcAgh3G631+v1Hf4DAAaJAqHv7Oxcv379li1bRowYIYSIj4+vrq4WQtTU1EyZMmX8+PHHjx/v6Ojo6uqy2+2xsbEJCQlVVVVCiNra2smTJw98AACAHwq86+bAgQNtbW0vvPCC725hYWF+fn5FRUVERMScOXOCgoKWLl2alZWl0+lycnKMRmNycvLhw4fT09MNBkNhYeHABwAA+KFA6BcsWLBgwYL+Kzt27Oh/NykpKSkpqe+u7+3zA98XAHAz+GQsAEiO0AOA5Ag9AEiO0AOA5Ag9AEiO0AOA5Ag9AEiO0AOA5Ag9AEiO0AOA5Ag9AEiO0AOA5Ag9AEiO0AOA5Ag9AEiO0AOA5Ag9AEiO0AOA5Ag9AEiO0AOA5Ag9AEiO0AOA5Ag9AEiO0AOA5Ag9AEiO0AOA5Ag9AEiO0AOA5Ag9AEiO0AOA5Ag9AEiO0AOA5Ag9AEiO0AOA5Ag9AEiO0AOA5Ag9AEiO0AOA5Ag9AEiO0AOA5Ag9AEiO0AOA5Ag9AEiO0AOA5Ag9AEiO0AOA5Ag9AEiO0AOA5Ag9AEiO0AOA5Ag9AEhOmdB/8cUXM2fOfPvtt4UQ58+f/+lPf5qRkbFkyZLe3l4hRGVl5ZNPPpmSkrJ3714hhNvtXrp0aXp6+sKFCxsbGxUZAABwIwqEvru7e82aNXFxcb67mzZtysjI2LVrV2RkpMVi6e7uLikp2blzZ1lZWWlpaXt7+/79+0NCQnbv3r1o0aKioqKBDwAA8EOB0BsMhq1bt5rNZt9dm802Y8YMIcT06dOtVmt9fX1MTIzRaAwODp44caLdbrdarYmJiUKI+Ph4u90+8AEAAH4oEPrAwMDg4OC+uz09PQaDQQgRGhrqcDicTqfJZPJ9yWQy9V/R6/U6nc53egcAMEgG8cVYr9f7LVYAAMpSPvRDhgxxuVxCiJaWFrPZbDabnU6n70utra2+FYfDIYRwu91er9d3+A8AGCTKhz4+Pr66uloIUVNTM2XKlPHjxx8/fryjo6Orq8tut8fGxiYkJFRVVQkhamtrJ0+erPgAAID+Agf+WzQ0NKxbt+7cuXOBgYHV1dUbN27My8urqKiIiIiYM2dOUFDQ0qVLs7KydDpdTk6O0WhMTk4+fPhwenq6wWAoLCwc+AAAAD8UCH10dHRZWVn/lR07dvS/m5SUlJSU1Hc3ICCgoKBg4PsCAG4Gn4wFAMkRegCQHKEHAMkRegCQHKEHAMkRegCQHKEHAMkRegCQHKEHAMkRegCQHKEHAMkRegCQHKEHAMkRegCQHKEHAMkRegCQHKEHAMkRegCQHKEHAMkRegCQHKEHAMkRegCQHKEHAMkRegCQHKEHAMkRegCQHKEHAMkRegCQHKEHAMkRegCQHKEHAMkRegCQHKEHAMkRegCQHKEHAMkRegCQHKEHAMkRegCQHKEHAMkRegCQHKEHAMkRegCQHKEHAMkRegCQHKEHAMkRegCQHKEHAMkRegCQHKEHAMkRegCQHKEHAMkRegCQXKAmu7766qv19fU6nW7FihU//OEPNZkBAO4QGoT+H//4x5kzZyoqKk6fPr1ixYqKigr1ZwCAO4cGp26sVuvMmTOFEPfff/+lS5cuX76s/gwAcOfQ4Ije6XSOGzfOd9tkMjkcjmHDhn3lMR6PRwjR3Nzsu3vxUrtq4105e/ZGX2rp6FVtjGE3GKOt3a3aDGdv/L/ictstMYb7okpHCf5maFPvD6efMXrbnLfCGB0XVRrj7Nkb/glsvXRBnRmEEGfP3rAJzg6HamO4/+8Z8TXT18/+dF6vV7VpfF5++eWpU6f6DurT09NfffXV7373u195zJEjRzIzM1UeDAAkUF5eHhsb239FgyN6s9nsdP7vt/3W1tawsLCvPyY6Orq8vDwsLCwgIEDd6QDgduXxeBwOR3R09FfWNQh9QkLC66+/npaW9s9//tNsNn/9vI0QIjg4+CvfkQAA3ygyMvLrixqEfuLEiePGjUtLS9PpdKtWrVJ/AAC4o2hwjh4AoCY+GQsAkiP0ACA5bS6BoIJb5CoLX3zxRXZ29s9//vOFCxdqNcP69euPHj169erV559/ftasWeoP0NPTk5eXd+HChStXrmRnZ0+fPl39Gfq4XK7Zs2dnZ2fPmzdPkwFsNtuSJUseeOABIcSYMWNefvllTcYQQlRWVm7bti0wMPBXv/rVtGnT1B9g7969lZWVvtsNDQ2ffvqp+jMIIbq6upYvX37p0iW3252TkzNlyhT1Z7h27dqqVatOnjwZFBS0evXq+++/X+ENvDKy2Wy/+MUvvF7vqVOnUlNTtRqjq6tr4cKF+fn5ZWVlWs1gtVqfffZZr9d78eLFqVOnajLDX/7ylz/+8Y9er/fs2bOzZs3SZIY+r7322rx58/bt26fVAHV1dYsXL9Zq9z4XL16cNWtWZ2dnS0tLfn6+tsPYbLbVq1drtXtZWdnGjRu9Xm9zc/Pjjz+uyQw1NTVLlizxer1nzpzxtUtZch7Rf/0qC9d9E+dgMxgMW7du3bp1q/pb93n44Yd9/6AJCQnp6enxeDzqfzQhOTnZd+P8+fPh4eEq797f6dOnT506pcnR663GarXGxcUNGzZs2LBha9as0XaYkpKSjRs3arX73Xff/fnnnwshOjo67r77bk1m+M9//uP7ezp69OimpibF/57KeY7e6XT2PWG+qyxoMkZgYGBwcLAmW/cJCAgYMmSIEMJisTz66KMafgAtLS1t2bJlK1as0GoAIcS6devy8vI0HMDn1KlTixYtSk9PP3TokFYznD171uVyLVq0KCMjw2q1ajWGEOLYsWP33nvvdT84qY4f//jHTU1NiYmJCxcuXL58uSYzjBkz5uOPP/Z4PP/+978bGxvb2tqU/f3lPKLvz8v7R4X44IMPLBbL9u3bNZxhz549n3322YsvvlhZWanT6dQf4L333pswYcKoUaPU37q/++6775e//OUTTzzR2Nj41FNP1dTUGAwGTSZpb29/4403mpqannrqqdraWk2eFCGExWKZO3euJlv7vP/++xEREW+99daJEydWrFjx7rvvqj/D1KlT7XZ7ZmbmD37wg+9973uKV0vO0N/MVRbuHB999NHmzZu3bdtmNBo1GaChoSE0NPTee+998MEHPR7PxYsXQ0ND1R/j4MGDjY2NBw8ebG5uNhgMI0eOjI+PV3+M8PBw37ms0aNH33PPPS0tLZp87wkNDX3ooYcCAwNHjx49dOhQrZ4UIYTNZsvPz9dkax+73f7II48IIaKiolpbWzU5vSmE+PWvf+27MXPmTMWfCzlP3SQkJFRXVwsh/Fxl4Q7R2dm5fv36LVu2jBgxQqsZjhw54vvHhNPp7O7u1uo0aHFx8b59+955552UlJTs7GxNKi+EqKysfOutt4QQDofjwoULWr1o8cgjj9TV1V27dq2trU3DJ6WlpWXo0KFa/ZvGJzIysr6+Xghx7ty5oUOHalL5EydO/OY3vxFC/P3vfx87dqxer3CZ5Tyiv0WustDQ0LBu3bpz584FBgZWV1e//vrr6tf2wIEDbW1tL7zwgu/uunXrIiIiVJ4hLS3tpZdeysjIcLlcK1euVPwP8e3lscceW7Zs2Ycffuh2u1evXq1V48LDwx9//PHU1FQhRH5+vlZPisPhMJlMmmzdZ8GCBStWrFi4cOHVq1dXr16tyQxjxozxer3z58+/6667BuN1aS6BAACSu6OPrQDgTkDoAUByhB4AJEfoAUByhB4AJEfoga+y2Wzp6elfX8/Ly9u7d6//X/vuu+8uW7ZscOYCviVCDwCSk/MDU8DAHTlyZOPGjQaDweVyrVq1aty4cUKIY8eOVVVVtbS0zJs375lnnunt7f3tb3975syZrq6u2bNnP/PMM1pPDVwHoQeur729ffXq1VFRUfv379+yZcumTZuEEK2trdu2bevs7ExMTJw3b57FYjGbzWvXrvV4PKmpqVpdVgHwj9AD13fPPfesX7/+ypUrnZ2dw4cP9y3GxcXpdLqQkJDRo0efOXPGZrM1Nzd/8sknQoje3t4vv/xS05GB6yP0wPXl5ua+8sorcXFxtbW1fVd47rsmjNfr1el0BoMhJycnKSmp71dpcpFbwD9ejAWuz+l0PvDAAx6Pp6qqqre317dYV1cnhLh06VJjY+N99903adKkv/71r0KIa9euFRQUtLe3azkxcAMc0QPX99xzz/3sZz+LiIjIysrKzc3duXOnEMJsNmdnZ3/55Zc5OTkhISGZmZknT55csGCBx+OZNm2ahteCBvzg6pUAIDlO3QCA5Ag9AEiO0AOA5Ag9AEiO0AOA5Ag9AEiO0AOA5Ag9AEjufwAZobWrPpL2lQAAAABJRU5ErkJggg==)"
      ],
      "metadata": {
        "id": "ybztafVziN-F"
      }
    },
    {
      "cell_type": "markdown",
      "source": [
        "# Checking for null and Missing Values"
      ],
      "metadata": {
        "id": "UVd9hZeCia-9"
      }
    },
    {
      "cell_type": "code",
      "source": [
        "# Check the data\n",
        "X_train.isnull().any().describe()"
      ],
      "metadata": {
        "id": "2TPY7aDaiPiN"
      },
      "execution_count": null,
      "outputs": []
    },
    {
      "cell_type": "code",
      "source": [
        "test.isnull().any().describe()"
      ],
      "metadata": {
        "id": "9u7EcFbyiXbV"
      },
      "execution_count": null,
      "outputs": []
    },
    {
      "cell_type": "code",
      "source": [
        "# Normalize the data\n",
        "X_train = X_train / 255.0\n",
        "test = test / 255.0\n",
        "\n",
        "# Reshape image in 3 dimensions (height = 28px, width = 28px , canal = 1)\n",
        "X_train = X_train.values.reshape(-1,28,28,1)\n",
        "test = test.values.reshape(-1,28,28,1)\n",
        "\n",
        "# Encode labels to one hot vectors (ex : 2 -> [0,0,1,0,0,0,0,0,0,0])\n",
        "Y_train = to_categorical(Y_train, num_classes = 10)\n",
        "\n",
        "# Set the random seed\n",
        "random_seed = 2\n",
        "\n",
        "# Split the train and the validation set for the fitting\n",
        "X_train, X_val, Y_train, Y_val = train_test_split(X_train, Y_train, test_size = 0.1, random_state=random_seed)"
      ],
      "metadata": {
        "id": "oMZdfjqUiuDG"
      },
      "execution_count": null,
      "outputs": []
    },
    {
      "cell_type": "code",
      "source": [
        "# Some examples\n",
        "g = plt.imshow(X_train[0][:,:,0])"
      ],
      "metadata": {
        "id": "8dfAAOxtjJCX"
      },
      "execution_count": null,
      "outputs": []
    },
    {
      "cell_type": "markdown",
      "source": [
        "![image.png](data:image/png;base64,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)"
      ],
      "metadata": {
        "id": "fsQaVymKjJuv"
      }
    },
    {
      "cell_type": "code",
      "source": [
        ""
      ],
      "metadata": {
        "id": "d24DtZFMjMbn"
      },
      "execution_count": null,
      "outputs": []
    }
  ]
}